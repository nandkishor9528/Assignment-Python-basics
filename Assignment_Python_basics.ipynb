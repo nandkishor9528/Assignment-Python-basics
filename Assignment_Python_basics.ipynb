{
  "nbformat": 4,
  "nbformat_minor": 0,
  "metadata": {
    "colab": {
      "provenance": []
    },
    "kernelspec": {
      "name": "python3",
      "display_name": "Python 3"
    },
    "language_info": {
      "name": "python"
    }
  },
  "cells": [
    {
      "cell_type": "markdown",
      "source": [
        "# Python Basics Questions\n"
      ],
      "metadata": {
        "id": "6aA0XaKzefDs"
      }
    },
    {
      "cell_type": "markdown",
      "source": [
        "1. What is Python, and why is it popular.\n",
        "   - Python is a high-level, interpreted programming language known for its simplicity and versatility. Created by Guido van Rossum in 1991, it features an easy-to-read syntax, making it beginner-friendly yet powerful. Python supports multiple programming paradigms and is widely used in web development, data science, AI, and automation. Its vast library support and active community contribute to its popularity, making it one of the most widely adopted languages today.\n",
        "\n",
        "2. What is an interpreter in Python.\n",
        "   - An **interpreter** in Python is a program that executes Python code line by line, converting it into machine-readable instructions. Unlike compiled languages, which require code to be fully converted before execution, Python’s interpreter processes code dynamically, making debugging easier and development faster.  \n",
        "\n",
        "3. What are pre-defined keywords in Python.\n",
        "   - Pre-defined keywords in Python are reserved words that have special meanings and cannot be used as variable names, function names, or identifiers. These keywords define the syntax and structure of the Python language.  \n",
        "   and there are 35 predefined keywords these are written below.\n",
        "   \n",
        "   False, await, else, import, pass, None, break, except, in, raise, True, class, finally, is, return, and, continue, for, lambda, try, as, def, from, nonlocal, while, assert, del, global, not, with, async, elif, if, or, yield  \n",
        "4. Can keywords be used as variable names.\n",
        "   - No, keywords cannot be used as variable names in Python because they are reserved for specific language functionalities. Using a keyword as a variable name will result in a SyntaxError.\n",
        "5. What is mutability in Python.\n",
        "   - Mutability in Python refers to whether an object’s value can be changed after it is created. Based on this property, Python objects are classified into mutable and immutable types.\n",
        "  \n",
        "  -**Mutable objects:** Their values can be modified after creation. Examples include: list,dict,set\n",
        "\n",
        "\n",
        "  -**Immutable objects:** Their values cannot be changed once assigned. Examples include: int,float,str,tuple\n",
        "6. Why are lists mutable, but tuples are immutable.\n",
        "\n",
        "\n",
        "   - The key difference between lists and tuples in Python lies in their internal structure and memory management, which determines their mutability.\n",
        "\n",
        "   - **Lists (Mutable)**\n",
        "Lists are designed to be dynamic and allow modifications like adding, removing, or changing elements. This is possible because lists are stored as references to objects, meaning their elements can be reassigned without creating a new list.\n",
        "\n",
        "   - **Tuples (Immutable)**\n",
        "Tuples, on the other hand, are fixed in size and structure once created. They are optimized for performance and memory efficiency. Python stores tuples in a way that does not allow modifications, making them hashable and safe for use as dictionary keys.\n",
        "\n",
        "\n",
        "7. What is the difference between “==” and “is” operators in Python.\n",
        "   -In Python, == and is are both comparison operators, but they serve different purposes.\n",
        "\n",
        "**a. == (Equality Operator)**\n",
        "The == operator checks if two values are equal, meaning they have the same content, regardless of whether they are stored at the same memory location.\n",
        "\n",
        "**b. is (Identity Operator)**\n",
        "The is operator checks if two variables refer to the same object in memory (i.e., they have the same identity).\n",
        "\n",
        "\n",
        "8. What are logical operators in Python.\n",
        "   - Logical operators are used to perform logical operations on Boolean values (True or False). Python provides three logical operators:\n",
        "\n",
        "   - **1.**and (Logical AND) – Returns True if both conditions are True, otherwise False.\n",
        "\n",
        "   - **2.**or (Logical OR) – Returns True if at least one condition is True.\n",
        "\n",
        "   - **3.**not (Logical NOT) – Reverses the Boolean value (True becomes False and vice versa).\n",
        "\n",
        "9. What is type casting in Python.\n",
        "\n",
        "   - Type casting (also called type conversion) in Python is the process of converting one data type into another. Python supports two types of type casting:\n",
        "\n",
        "10. What is the difference between implicit and explicit type casting.\n",
        "   - **Definition of Implicit and Explicit Type Casting in Python**\n",
        "\n",
        "**1. mplicit Type Casting (Automatic Conversion):**\n",
        "Implicit type casting in Python refers to the automatic conversion of one data type into another by the Python interpreter, without any explicit request from the programmer. This usually happens when a smaller or less precise data type is used in an operation with a larger or more precise data type, ensuring no loss of information.\n",
        "\n",
        "**2. Explicit Type Casting (Manual Conversion):**\n",
        "Explicit type casting, also known as type conversion, is when the programmer manually converts one data type into another using built-in functions like int(), float(), str(), etc. This is required when automatic conversion is not possible or when a specific data type is needed. However, explicit type casting may result in data loss or unexpected behavior if not handled correctly.\n",
        "\n",
        "11. What is the purpose of conditional statements in Python.\n",
        "   - Purpose of Conditional Statements in Python\n",
        "Conditional statements in Python are used to control the flow of execution based on certain conditions. They allow a program to make decisions and execute different blocks of code depending on whether a given condition evaluates to True or False.\n",
        "\n",
        "**These statements help in:**\n",
        "\n",
        "Decision Making – Execute specific code based on conditions.\n",
        "\n",
        "Flow Control – Control which part of the program runs.\n",
        "\n",
        "Efficient Programming – Avoid unnecessary execution of code.\n",
        "\n",
        "Automation – Implement logic like loops, user inputs, and real-time responses\n",
        "\n",
        "12. How does the elif statement work.\n",
        "   - **How the elif Statement Works in Python:**\n",
        "The elif (short for \"else if\") statement is used when multiple conditions need to be checked in sequence. It allows the program to evaluate multiple expressions one by one and execute the first one that is True. If none of the conditions are True, the optional else block is executed.\n",
        "\n",
        "\n",
        "13. What is the difference between for and while loops.\n",
        "   - **Difference Between `for` and `while` Loops in Python:**  \n",
        "\n",
        "Loops in Python are used to execute a block of code multiple times. The two primary types of loops are **`for` loops** and **`while` loops**, each serving a different purpose.  \n",
        "\n",
        "- **`for` Loop**: This loop is used when the number of iterations is known beforehand. It is commonly used to iterate over a sequence (such as a list, tuple, string, or range). The loop variable automatically takes the next value in the sequence, and the loop stops when all elements have been processed.  \n",
        "\n",
        "- **`while` Loop**: This loop is used when the number of iterations is not predetermined and depends on a condition. It continues executing as long as the specified condition remains `True`. The condition is checked before each iteration, and if it evaluates to `False`, the loop terminates.  \n",
        "\n",
        "Thus, a `for` loop is best suited for iterating over a fixed sequence, whereas a `while` loop is useful for situations where execution must continue until a specific condition is met.\n",
        "\n",
        "14. Describe a scenario where a while loop is more suitable than a for loop.\n",
        "   - A while loop is more suitable when the number of iterations is not known in advance and depends on a condition that changes dynamically.\n",
        "\n",
        "Example: User Input Validation\n",
        "Consider a program that asks the user to enter a positive number. If the user enters a negative number, the program should keep asking until a valid input is provided.\n",
        "\n",
        "Why while?\n",
        "The number of attempts is unknown.\n",
        "The loop should run until the user provides a valid number.\n"
      ],
      "metadata": {
        "id": "NKr1il3DhGpJ"
      }
    },
    {
      "cell_type": "markdown",
      "source": [
        "# Practical Questions"
      ],
      "metadata": {
        "id": "7tbLtLtfqlHP"
      }
    },
    {
      "cell_type": "code",
      "source": [
        "# 1. Write a Python program to print \"Hello, World!\"\n",
        "\n",
        "print(\"Hello, World!\")\n"
      ],
      "metadata": {
        "colab": {
          "base_uri": "https://localhost:8080/"
        },
        "id": "dc6mAKiaqo-7",
        "outputId": "996e0ee4-54f8-4b83-eb9b-de7a400c2ca8"
      },
      "execution_count": null,
      "outputs": [
        {
          "output_type": "stream",
          "name": "stdout",
          "text": [
            "Hello, World!\n"
          ]
        }
      ]
    },
    {
      "cell_type": "code",
      "source": [
        "# 2. Write a Python program that displays your name and age.\n",
        "\n",
        "print(\"My name is Nand kishor Singh\")\n",
        "print('I am 18 yers old')\n"
      ],
      "metadata": {
        "colab": {
          "base_uri": "https://localhost:8080/"
        },
        "id": "K_EqcZw1rABG",
        "outputId": "61853d0e-45f3-4db1-e6d1-64f5c4ca2aca"
      },
      "execution_count": null,
      "outputs": [
        {
          "output_type": "stream",
          "name": "stdout",
          "text": [
            "My name is Nand kishor Singh\n",
            "I am 18 yers old\n"
          ]
        }
      ]
    },
    {
      "cell_type": "code",
      "source": [
        "# 3. Write code to print all the pre-defined keywords in Python using the keyword library.\n",
        "\n",
        "help('keywords')"
      ],
      "metadata": {
        "colab": {
          "base_uri": "https://localhost:8080/"
        },
        "id": "g4bWSIZnrx_1",
        "outputId": "23deedd5-8f98-4e65-fd17-8d73e7ac1e8f"
      },
      "execution_count": null,
      "outputs": [
        {
          "output_type": "stream",
          "name": "stdout",
          "text": [
            "\n",
            "Here is a list of the Python keywords.  Enter any keyword to get more help.\n",
            "\n",
            "False               class               from                or\n",
            "None                continue            global              pass\n",
            "True                def                 if                  raise\n",
            "and                 del                 import              return\n",
            "as                  elif                in                  try\n",
            "assert              else                is                  while\n",
            "async               except              lambda              with\n",
            "await               finally             nonlocal            yield\n",
            "break               for                 not                 \n",
            "\n"
          ]
        }
      ]
    },
    {
      "cell_type": "code",
      "source": [
        "# 4. Write a program that checks if a given word is a Python keyword.\n",
        "\n",
        "# List of Python keywords\n",
        "keywords = [\n",
        "    \"False\", \"None\", \"True\", \"and\", \"as\", \"assert\", \"async\", \"await\", \"break\",\n",
        "    \"class\", \"continue\", \"def\", \"del\", \"elif\", \"else\", \"except\", \"finally\",\n",
        "    \"for\", \"from\", \"global\", \"if\", \"import\", \"in\", \"is\", \"lambda\", \"nonlocal\",\n",
        "    \"not\", \"or\", \"pass\", \"raise\", \"return\", \"try\", \"while\", \"with\", \"yield\"\n",
        "]\n",
        "\n",
        "# Get user input\n",
        "word = input(\"Enter a word: \")\n",
        "\n",
        "# Check if the word is in the list\n",
        "if word in keywords:\n",
        "    print(f\"'{word}' is a Python keyword.\")\n",
        "else:\n",
        "    print(f\"'{word}' is NOT a Python keyword.\")\n",
        "\n",
        "\n"
      ],
      "metadata": {
        "colab": {
          "base_uri": "https://localhost:8080/"
        },
        "id": "UhN5ciARsFnb",
        "outputId": "ba1aa263-b728-4bc3-bd32-56f077ea36d8"
      },
      "execution_count": null,
      "outputs": [
        {
          "output_type": "stream",
          "name": "stdout",
          "text": [
            "Enter a word: hy\n",
            "'hy' is NOT a Python keyword.\n"
          ]
        }
      ]
    },
    {
      "cell_type": "code",
      "source": [
        "# 5. Create a list and tuple in Python, and demonstrate how attempting to change an element works differently for each.\n",
        "\n",
        "\n",
        "# Creating a list (Mutable)\n",
        "my_list = [10, 20, 30]\n",
        "print(\"Original List:\", my_list)\n",
        "\n",
        "# Modifying an element in the list\n",
        "my_list[1] = 25  # Changing 20 to 25\n",
        "print(\"Modified List:\", my_list)\n",
        "\n",
        "# Creating a tuple (Immutable)\n",
        "my_tuple = (10, 20, 30)\n",
        "print(\"\\nOriginal Tuple:\", my_tuple)\n",
        "\n",
        "# Attempting to modify an element in the tuple (This will cause an error)\n",
        "try:\n",
        "    my_tuple[1] = 25  # Trying to change 20 to 25\n",
        "except TypeError as e:\n",
        "    print(\"Error:\", e)\n",
        "\n"
      ],
      "metadata": {
        "id": "oydVqZwPtlY1",
        "colab": {
          "base_uri": "https://localhost:8080/"
        },
        "outputId": "d295dbd2-e800-4131-80bd-fd0659cbbbcb"
      },
      "execution_count": 1,
      "outputs": [
        {
          "output_type": "stream",
          "name": "stdout",
          "text": [
            "Original List: [10, 20, 30]\n",
            "Modified List: [10, 25, 30]\n",
            "\n",
            "Original Tuple: (10, 20, 30)\n",
            "Error: 'tuple' object does not support item assignment\n"
          ]
        }
      ]
    },
    {
      "cell_type": "code",
      "source": [
        "# 6. Write a function to demonstrate the behavior of mutable and immutable arguments.\n",
        "\n",
        "def modify_values(num, my_list):\n",
        "    # Trying to modify the immutable integer\n",
        "    num += 10  # Creates a new integer object\n",
        "\n",
        "    # Modifying the mutable list\n",
        "    my_list.append(4)  # Changes the original list\n",
        "\n",
        "    print(\"Inside function - num:\", num)\n",
        "    print(\"Inside function - list:\", my_list)\n",
        "\n",
        "# Immutable integer\n",
        "x = 5\n",
        "# Mutable list\n",
        "lst = [1, 2, 3]\n",
        "\n",
        "print(\"Before function call - x:\", x)\n",
        "print(\"Before function call - list:\", lst)\n",
        "\n",
        "# Calling the function\n",
        "modify_values(x, lst)\n",
        "\n",
        "print(\"After function call - x:\", x)   # x remains unchanged\n",
        "print(\"After function call - list:\", lst)  # list is modified\n"
      ],
      "metadata": {
        "colab": {
          "base_uri": "https://localhost:8080/"
        },
        "id": "tnRFAJ1hjJlX",
        "outputId": "c9a31bd5-1dad-4f90-de55-00896741df77"
      },
      "execution_count": 2,
      "outputs": [
        {
          "output_type": "stream",
          "name": "stdout",
          "text": [
            "Before function call - x: 5\n",
            "Before function call - list: [1, 2, 3]\n",
            "Inside function - num: 15\n",
            "Inside function - list: [1, 2, 3, 4]\n",
            "After function call - x: 5\n",
            "After function call - list: [1, 2, 3, 4]\n"
          ]
        }
      ]
    },
    {
      "cell_type": "code",
      "source": [
        "# 7. Write a program that performs basic arithmetic operations on two user-input numbers.\n",
        "\n",
        "# Taking user input for two numbers\n",
        "num1 = float(input(\"Enter first number: \"))\n",
        "num2 = float(input(\"Enter second number: \"))\n",
        "\n",
        "# Performing arithmetic operations\n",
        "sum_result = num1 + num2\n",
        "difference = num1 - num2\n",
        "product = num1 * num2\n",
        "divide = num1 / num2\n",
        "\n",
        "# Displaying results\n",
        "print(\"\\nArithmetic Operations Results:\")\n",
        "print(f\"Addition: {num1} + {num2} = {sum_result}\")\n",
        "print(f\"Subtraction: {num1} - {num2} = {difference}\")\n",
        "print(f\"Multiplication: {num1} × {num2} = {product}\")\n",
        "print(f\"Division: {num1} ÷ {num2} = {divide}\")\n",
        "\n"
      ],
      "metadata": {
        "colab": {
          "base_uri": "https://localhost:8080/"
        },
        "id": "poF62h_5j6xs",
        "outputId": "b76a5020-f44f-4a35-b960-0c21fa87f126"
      },
      "execution_count": 3,
      "outputs": [
        {
          "output_type": "stream",
          "name": "stdout",
          "text": [
            "Enter first number: 2\n",
            "Enter second number: 4\n",
            "\n",
            "Arithmetic Operations Results:\n",
            "Addition: 2.0 + 4.0 = 6.0\n",
            "Subtraction: 2.0 - 4.0 = -2.0\n",
            "Multiplication: 2.0 × 4.0 = 8.0\n",
            "Division: 2.0 ÷ 4.0 = 0.5\n"
          ]
        }
      ]
    },
    {
      "cell_type": "code",
      "source": [
        "#  8. Write a program to demonstrate the use of logical operators.\n",
        "\n",
        "# Taking user input for two boolean values\n",
        "a = bool(int(input(\"Enter 1 for True, 0 for False (First value): \")))\n",
        "b = bool(int(input(\"Enter 1 for True, 0 for False (Second value): \")))\n",
        "\n",
        "# Demonstrating logical operators\n",
        "print(\"\\nLogical Operators Results:\")\n",
        "print(f\"{a} and {b} = {a and b}\")   # True if both are True\n",
        "print(f\"{a} or {b} = {a or b}\")     # True if at least one is True\n",
        "print(f\"not {a} = {not a}\")         # Reverses the value of a\n",
        "print(f\"not {b} = {not b}\")         # Reverses the value of b\n"
      ],
      "metadata": {
        "colab": {
          "base_uri": "https://localhost:8080/"
        },
        "id": "6_TklHonkgSs",
        "outputId": "ff0d3db2-1681-43e1-a5f4-e15010e0a1ef"
      },
      "execution_count": 4,
      "outputs": [
        {
          "output_type": "stream",
          "name": "stdout",
          "text": [
            "Enter 1 for True, 0 for False (First value): 1\n",
            "Enter 1 for True, 0 for False (Second value): 0\n",
            "\n",
            "Logical Operators Results:\n",
            "True and False = False\n",
            "True or False = True\n",
            "not True = False\n",
            "not False = True\n"
          ]
        }
      ]
    },
    {
      "cell_type": "code",
      "source": [
        "#  9. Write a Python program to convert user input from string to integer, float, and boolean types.\n",
        "\n",
        "# Taking user input as a string\n",
        "user_input = input(\"Enter a value: \")\n",
        "\n",
        "# Converting to different data types\n",
        "try:\n",
        "    int_value = int(user_input)   # Convert to integer\n",
        "except ValueError:\n",
        "    int_value = \"Cannot convert to int\"\n",
        "\n",
        "try:\n",
        "    float_value = float(user_input)  # Convert to float\n",
        "except ValueError:\n",
        "    float_value = \"Cannot convert to float\"\n",
        "\n",
        "bool_value = bool(user_input)  # Convert to boolean\n",
        "\n",
        "# Displaying the results\n",
        "print(\"\\nData Type Conversions:\")\n",
        "print(f\"String Input: '{user_input}'\")\n",
        "print(f\"Integer Conversion: {int_value}\")\n",
        "print(f\"Float Conversion: {float_value}\")\n",
        "print(f\"Boolean Conversion: {bool_value}\")\n"
      ],
      "metadata": {
        "colab": {
          "base_uri": "https://localhost:8080/"
        },
        "id": "HOTKz2NWk9Pl",
        "outputId": "f5996a4c-7113-4c4d-a2a9-2d600ba78445"
      },
      "execution_count": 6,
      "outputs": [
        {
          "output_type": "stream",
          "name": "stdout",
          "text": [
            "Enter a value: gy\n",
            "\n",
            "Data Type Conversions:\n",
            "String Input: 'gy'\n",
            "Integer Conversion: Cannot convert to int\n",
            "Float Conversion: Cannot convert to float\n",
            "Boolean Conversion: True\n"
          ]
        }
      ]
    },
    {
      "cell_type": "code",
      "source": [
        "#  10. Write code to demonstrate type casting with list elements.\n",
        "\n",
        "# List of string numbers\n",
        "str_list = [\"10\", \"20\", \"30\", \"40.5\", \"50.8\"]\n",
        "\n",
        "# Converting string list to integer list (ignoring decimals)\n",
        "try:\n",
        "    int_list = [int(x) for x in str_list]  # This will fail for decimal values\n",
        "except ValueError as e:\n",
        "    int_list = f\"Error: {e}\"\n",
        "\n",
        "# Converting string list to float list\n",
        "float_list = [float(x) for x in str_list]\n",
        "\n",
        "# Displaying results\n",
        "print(\"Original List (Strings):\", str_list)\n",
        "print(\"Converted to Integers:\", int_list)\n",
        "print(\"Converted to Floats:\", float_list)\n"
      ],
      "metadata": {
        "colab": {
          "base_uri": "https://localhost:8080/"
        },
        "id": "Hcvb8CVullsN",
        "outputId": "31970339-504b-46c9-85a8-9b76f1909d17"
      },
      "execution_count": 8,
      "outputs": [
        {
          "output_type": "stream",
          "name": "stdout",
          "text": [
            "Original List (Strings): ['10', '20', '30', '40.5', '50.8']\n",
            "Converted to Integers: Error: invalid literal for int() with base 10: '40.5'\n",
            "Converted to Floats: [10.0, 20.0, 30.0, 40.5, 50.8]\n"
          ]
        }
      ]
    },
    {
      "cell_type": "code",
      "source": [
        "#  11. Write a program that checks if a number is positive, negative, or zero.\n",
        "\n",
        "# Taking user input\n",
        "num = float(input(\"Enter a number: \"))\n",
        "\n",
        "# Checking conditions\n",
        "if num > 0:\n",
        "    print(f\"{num} is a Positive number.\")\n",
        "elif num < 0:\n",
        "    print(f\"{num} is a Negative number.\")\n",
        "else:\n",
        "    print(\"The number is Zero.\")\n"
      ],
      "metadata": {
        "colab": {
          "base_uri": "https://localhost:8080/"
        },
        "id": "IBbEUAY4mJ5U",
        "outputId": "b7eb9e5a-d43e-47c7-ef1d-800cee550c91"
      },
      "execution_count": 9,
      "outputs": [
        {
          "output_type": "stream",
          "name": "stdout",
          "text": [
            "Enter a number: 2\n",
            "2.0 is a Positive number.\n"
          ]
        }
      ]
    },
    {
      "cell_type": "code",
      "source": [
        "#  12. Write a for loop to print numbers from 1 to 10.\n",
        "\n",
        "# Using a for loop to print numbers from 1 to 10\n",
        "for num in range(1, 11):\n",
        "    print(num, end=\"\")\n",
        "\n"
      ],
      "metadata": {
        "colab": {
          "base_uri": "https://localhost:8080/"
        },
        "id": "RCmDdAN8mxDK",
        "outputId": "e3e087c4-209b-4cc1-f475-ff3e04f8ce16"
      },
      "execution_count": 12,
      "outputs": [
        {
          "output_type": "stream",
          "name": "stdout",
          "text": [
            "12345678910"
          ]
        }
      ]
    },
    {
      "cell_type": "code",
      "source": [
        "#  13. Write a Python program to find the sum of all even numbers between 1 and 50.\n",
        "\n",
        "# Initializing sum variable\n",
        "sum_even = 0\n",
        "\n",
        "# Loop through numbers from 1 to 50\n",
        "for num in range(2, 51, 2):  # Start from 2, step by 2 to get only even numbers\n",
        "    sum_even += num  # Add even number to sum\n",
        "\n",
        "# Display the result\n",
        "print(\"Sum of all even numbers between 1 and 50:\", sum_even)\n"
      ],
      "metadata": {
        "colab": {
          "base_uri": "https://localhost:8080/"
        },
        "id": "0nHfXivmm_n2",
        "outputId": "73c5ab6e-96fd-492c-912b-63ee50b2801e"
      },
      "execution_count": 13,
      "outputs": [
        {
          "output_type": "stream",
          "name": "stdout",
          "text": [
            "Sum of all even numbers between 1 and 50: 650\n"
          ]
        }
      ]
    },
    {
      "cell_type": "code",
      "source": [
        "#  14. Write a program to reverse a string using a while loop.\n",
        "\n",
        "# Taking user input\n",
        "text = input(\"Enter a string: \")\n",
        "\n",
        "# Initializing variables\n",
        "reversed_text = \"\"\n",
        "index = len(text) - 1  # Start from the last character\n",
        "\n",
        "# Using while loop to reverse the string\n",
        "while index >= 0:\n",
        "    reversed_text += text[index]  # Append character in reverse order\n",
        "    index -= 1  # Move to the previous character\n",
        "\n",
        "# Display the reversed string\n",
        "print(\"Reversed string:\", reversed_text)\n"
      ],
      "metadata": {
        "colab": {
          "base_uri": "https://localhost:8080/"
        },
        "id": "b0NTHKp4nVZe",
        "outputId": "dabac85e-d6ba-4453-d834-2e707877d681"
      },
      "execution_count": 14,
      "outputs": [
        {
          "output_type": "stream",
          "name": "stdout",
          "text": [
            "Enter a string: rama\n",
            "Reversed string: amar\n"
          ]
        }
      ]
    },
    {
      "cell_type": "code",
      "source": [
        "#  15. Write a Python program to calculate the factorial of a number provided by the user using a while loop.\n",
        "\n",
        "# Taking user input\n",
        "num = int(input(\"Enter a number: \"))\n",
        "\n",
        "# Initializing factorial variable\n",
        "factorial = 1\n",
        "i = num  # Start from the given number\n",
        "\n",
        "# Using while loop to calculate factorial\n",
        "while i > 0:\n",
        "    factorial *= i  # Multiply the current number\n",
        "    i -= 1  # Decrease the number by 1\n",
        "\n",
        "# Displaying the result\n",
        "print(f\"Factorial of {num} is {factorial}\")\n"
      ],
      "metadata": {
        "colab": {
          "base_uri": "https://localhost:8080/"
        },
        "id": "KWnEtNpJnnxZ",
        "outputId": "a2c32995-7c78-4456-8109-9339a2abd51e"
      },
      "execution_count": 15,
      "outputs": [
        {
          "output_type": "stream",
          "name": "stdout",
          "text": [
            "Enter a number: 23\n",
            "Factorial of 23 is 25852016738884976640000\n"
          ]
        }
      ]
    }
  ]
}